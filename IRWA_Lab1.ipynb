{
  "nbformat": 4,
  "nbformat_minor": 0,
  "metadata": {
    "colab": {
      "name": "IRWA_Lab1.ipynb",
      "provenance": [],
      "collapsed_sections": [],
      "authorship_tag": "ABX9TyMt+A/nUrSyw8Puo+JrvDDs",
      "include_colab_link": true
    },
    "kernelspec": {
      "name": "python3",
      "display_name": "Python 3"
    },
    "language_info": {
      "name": "python"
    }
  },
  "cells": [
    {
      "cell_type": "markdown",
      "metadata": {
        "id": "view-in-github",
        "colab_type": "text"
      },
      "source": [
        "<a href=\"https://colab.research.google.com/github/vidurangaushan/IRWA-IT3041/blob/main/IRWA_Lab1.ipynb\" target=\"_parent\"><img src=\"https://colab.research.google.com/assets/colab-badge.svg\" alt=\"Open In Colab\"/></a>"
      ]
    },
    {
      "cell_type": "code",
      "execution_count": null,
      "metadata": {
        "colab": {
          "base_uri": "https://localhost:8080/"
        },
        "id": "eZirTqUDswkm",
        "outputId": "d9098fb5-effd-4793-df67-17bc1d8a34de"
      },
      "outputs": [
        {
          "output_type": "stream",
          "name": "stdout",
          "text": [
            "[('India', 'Kohli'), ('England', 'Root'), ('NZ', 'Williamson'), ('Aus', 'Smith')]\n"
          ]
        }
      ],
      "source": [
        "##01\n",
        "teams = [\"India\",\"England\",\"NZ\",\"Aus\"]\n",
        "captains = [\"Kohli\",\"Root\",\"Williamson\",\"Smith\"]\n",
        "zipped = zip(teams,captains)\n",
        "ziplist = list(zipped)\n",
        "print(ziplist)"
      ]
    },
    {
      "cell_type": "code",
      "source": [
        "##01 part 2\n",
        "zipped = zip(teams,captains)\n",
        "zipdict = dict(zipped)\n",
        "print(zipdict)"
      ],
      "metadata": {
        "colab": {
          "base_uri": "https://localhost:8080/"
        },
        "id": "ch0BEm3uFqcO",
        "outputId": "6248e351-56fb-48f5-8560-47144bcec930"
      },
      "execution_count": null,
      "outputs": [
        {
          "output_type": "stream",
          "name": "stdout",
          "text": [
            "{'India': 'Kohli', 'England': 'Root', 'NZ': 'Williamson', 'Aus': 'Smith'}\n"
          ]
        }
      ]
    },
    {
      "cell_type": "code",
      "source": [
        "##02\n",
        "books= [\"textbooks\", \"exercise books\", \"story book\", \"drawing books\"]\n",
        "prices = [100,60,90,70]\n",
        "quantities = [3,2,1,4]\n",
        "\n",
        "for x,y,z in zip(books,prices, quantities):\n",
        "  print(f\"You bought {z} {x} for ${y*z}\")"
      ],
      "metadata": {
        "colab": {
          "base_uri": "https://localhost:8080/"
        },
        "id": "mdN6ve5DGct0",
        "outputId": "da004fa7-ce2f-4380-c391-b2547a3a8a35"
      },
      "execution_count": null,
      "outputs": [
        {
          "output_type": "stream",
          "name": "stdout",
          "text": [
            "You bought 3 textbooks for $300\n",
            "You bought 2 exercise books for $120\n",
            "You bought 1 story book for $90\n",
            "You bought 4 drawing books for $280\n"
          ]
        }
      ]
    },
    {
      "cell_type": "code",
      "source": [
        "##03\n",
        "list1 = [2,4,6,8,10]\n",
        "x = [i+10 for i in list1]\n",
        "print(x)"
      ],
      "metadata": {
        "colab": {
          "base_uri": "https://localhost:8080/"
        },
        "id": "p4P2Ua8_HWZk",
        "outputId": "71d66081-a9e1-42ab-dabc-482b1e7858e9"
      },
      "execution_count": null,
      "outputs": [
        {
          "output_type": "stream",
          "name": "stdout",
          "text": [
            "[12, 14, 16, 18, 20]\n"
          ]
        }
      ]
    },
    {
      "cell_type": "code",
      "source": [
        "##04\n",
        "list1 = [10, 20, 30, 40]\n",
        "list2 = [\"Apples\", \"Mangoes\", \"Oranges\", \"Grapes\"]\n",
        "for x, y in zip(list1, list2[::-1]):\n",
        "    print(x, y)"
      ],
      "metadata": {
        "colab": {
          "base_uri": "https://localhost:8080/"
        },
        "id": "YD20wgN8xdxm",
        "outputId": "2d6438e9-144d-46d2-e7ee-03684e000776"
      },
      "execution_count": null,
      "outputs": [
        {
          "output_type": "stream",
          "name": "stdout",
          "text": [
            "10 Grapes\n",
            "20 Oranges\n",
            "30 Mangoes\n",
            "40 Apples\n"
          ]
        }
      ]
    },
    {
      "cell_type": "code",
      "source": [
        "##05\n",
        "list1 = [\"a\", \"b\", [\"c\", [\"d\", \"e\", [\"f\", \"g\"], \"k\"], \"l\"], \"m\", \"n\"]\n",
        "sub_list = [\"h\", \"i\", \"j\"]\n",
        "\n",
        "list1[2][1][2].extend(sub_list)\n",
        "print(list1)"
      ],
      "metadata": {
        "colab": {
          "base_uri": "https://localhost:8080/"
        },
        "id": "3hLRc2uuH1tS",
        "outputId": "81771058-7504-4247-967d-32efac94e367"
      },
      "execution_count": null,
      "outputs": [
        {
          "output_type": "stream",
          "name": "stdout",
          "text": [
            "['a', 'b', ['c', ['d', 'e', ['f', 'g', 'h', 'i', 'j'], 'k'], 'l'], 'm', 'n']\n"
          ]
        }
      ]
    },
    {
      "cell_type": "code",
      "source": [
        "##05 part 2\n",
        "list2 = [\"a\", \"b\", [\"c\", [\"d\", \"e\", [\"f\", \"g\"], \"k\"], \"l\"], \"m\", \"n\"]\n",
        "list2[2][1][2].append(sub_list)\n",
        "print(list2)"
      ],
      "metadata": {
        "colab": {
          "base_uri": "https://localhost:8080/"
        },
        "id": "GUerrnfbInhj",
        "outputId": "f16628d8-7870-4c11-edd7-0f6c6481e544"
      },
      "execution_count": null,
      "outputs": [
        {
          "output_type": "stream",
          "name": "stdout",
          "text": [
            "['a', 'b', ['c', ['d', 'e', ['f', 'g', ['h', 'i', 'j']], 'k'], 'l'], 'm', 'n']\n"
          ]
        }
      ]
    },
    {
      "cell_type": "code",
      "source": [
        "##06\n",
        "List1= [10,15,20,15,32,54,15]\n",
        "while 15 in list1:\n",
        "  list1.remove(15)\n",
        "print(list1)\n"
      ],
      "metadata": {
        "colab": {
          "base_uri": "https://localhost:8080/"
        },
        "id": "j5IfrIcI5h9c",
        "outputId": "a8206776-b5ee-4b2b-9173-987257cad531"
      },
      "execution_count": null,
      "outputs": [
        {
          "output_type": "stream",
          "name": "stdout",
          "text": [
            "[10, 20, 30, 40]\n"
          ]
        }
      ]
    },
    {
      "cell_type": "code",
      "source": [
        "##07\n",
        "dict_1 = {'John': 15, 'Rick': 10, 'Misa': 12}\n",
        "dict_2 = {'Bonnie': 18,'Rick': 20,'Matt': 16}\n",
        "\n",
        "##using unpack operator\n",
        "dict_3 = {**dict_1,**dict_2}\n",
        "print(dict_3)"
      ],
      "metadata": {
        "colab": {
          "base_uri": "https://localhost:8080/"
        },
        "id": "IKQCb9XT6Vvx",
        "outputId": "935ede65-7e8c-403d-da40-e4d72817bcb8"
      },
      "execution_count": null,
      "outputs": [
        {
          "output_type": "stream",
          "name": "stdout",
          "text": [
            "{'John': 15, 'Rick': 20, 'Misa': 12, 'Bonnie': 18, 'Matt': 16}\n"
          ]
        }
      ]
    },
    {
      "cell_type": "code",
      "source": [
        "##08\n",
        "d = {0: 0, 1: 1, 2: 2, 3: 3}\n",
        "k_old = 0\n",
        "k_new = 4\n",
        "d[k_new] = d.pop(k_old)\n",
        "print(d)"
      ],
      "metadata": {
        "colab": {
          "base_uri": "https://localhost:8080/"
        },
        "id": "X2zhiXNqJCcs",
        "outputId": "de93b2bb-00f6-4195-a127-1731a9cbe655"
      },
      "execution_count": null,
      "outputs": [
        {
          "output_type": "stream",
          "name": "stdout",
          "text": [
            "{1: 1, 2: 2, 3: 3, 4: 0}\n"
          ]
        }
      ]
    },
    {
      "cell_type": "code",
      "source": [
        "##09\n",
        "country=[\"USA\",\"France\",\"India\"]\n",
        "capital= [\"Washington D.C.\",\"Paris\",\"New Delhi\"]\n",
        "dict_from_list = dict(zip(country, capital))\n",
        "print(dict_from_list)"
      ],
      "metadata": {
        "colab": {
          "base_uri": "https://localhost:8080/"
        },
        "id": "f8rw1EZT8Mjt",
        "outputId": "bfb8e454-53f8-4dbf-efea-b0b5cbba0574"
      },
      "execution_count": null,
      "outputs": [
        {
          "output_type": "stream",
          "name": "stdout",
          "text": [
            "{'USA': 'Washington D.C.', 'France': 'Paris', 'India': 'New Delhi'}\n"
          ]
        }
      ]
    },
    {
      "cell_type": "code",
      "source": [
        "##10\n",
        "My_dict = {\"Fruit\": \"Pear\",\n",
        "\"Vegetable\": \"Carrot\",\n",
        "\"Pet\": \"Cat\",\n",
        "\"Book\": \"Moby dick\",\n",
        "\"Crystal\": \"Amethyst\"}\n",
        "\n",
        "keysToRemove = [\"Book\", \"Crystal\"]\n",
        "\n",
        "for k in keysToRemove:\n",
        "  My_dict.pop(k)\n",
        "print(My_dict)\n"
      ],
      "metadata": {
        "colab": {
          "base_uri": "https://localhost:8080/"
        },
        "id": "qPvbpH-u-BJV",
        "outputId": "9fec7830-0020-4f2e-a625-058c8953139f"
      },
      "execution_count": null,
      "outputs": [
        {
          "output_type": "stream",
          "name": "stdout",
          "text": [
            "{'Fruit': 'Pear', 'Vegetable': 'Carrot', 'Pet': 'Cat'}\n"
          ]
        }
      ]
    },
    {
      "cell_type": "code",
      "source": [
        "##11\n",
        "sub_dict = {'math' : 100, 'chem' : 98, 'sci' : 100,'eng':100}\n",
        "key_to_extract = {'math', 'chem','sci'}\n",
        "\n",
        "extracted_dict = {key: sub_dict[key] for key in sub_dict.keys()\n",
        "                      & key_to_extract}\n",
        "\n",
        "print(\"extracted key-value from dictionary : \" , extracted_dict)                      "
      ],
      "metadata": {
        "colab": {
          "base_uri": "https://localhost:8080/"
        },
        "id": "mJO7lJ-2M38q",
        "outputId": "978ca6d5-9c4e-44e6-c52b-eb529f9b37bd"
      },
      "execution_count": null,
      "outputs": [
        {
          "output_type": "stream",
          "name": "stdout",
          "text": [
            "extracted key-value from dictionary :  {'math': 100, 'chem': 98, 'sci': 100}\n"
          ]
        }
      ]
    },
    {
      "cell_type": "code",
      "source": [
        "##12\n",
        "List1 = [12, 15, 32, 42, 55, 75, 122, 132, 150, 180, 200]\n",
        "List = []\n",
        "for i in List1:\n",
        "\n",
        "  if i%5==0:\n",
        "    List.append(i)\n",
        "print(List)    "
      ],
      "metadata": {
        "colab": {
          "base_uri": "https://localhost:8080/"
        },
        "id": "Jl-WovXLAT22",
        "outputId": "0dec40f1-d57b-4b2c-d515-7ad965654d68"
      },
      "execution_count": null,
      "outputs": [
        {
          "output_type": "stream",
          "name": "stdout",
          "text": [
            "[15, 55, 75, 150, 180, 200]\n"
          ]
        }
      ]
    },
    {
      "cell_type": "code",
      "source": [
        "##13\n",
        "numbers = [12, 75, 150, 180, 145, 525, 50]\n",
        "\n",
        "for item in numbers:\n",
        "  if item > 500:\n",
        "    break\n",
        "  elif item >150:\n",
        "    continue\n",
        "  elif item % 5 == 0:\n",
        "    print(item)    "
      ],
      "metadata": {
        "colab": {
          "base_uri": "https://localhost:8080/"
        },
        "id": "PagcZZ1YOeG_",
        "outputId": "d6f4f9d1-a264-4917-a7f3-34494b86f426"
      },
      "execution_count": null,
      "outputs": [
        {
          "output_type": "stream",
          "name": "stdout",
          "text": [
            "75\n",
            "150\n",
            "145\n"
          ]
        }
      ]
    },
    {
      "cell_type": "code",
      "source": [
        "##14\n",
        "def count_chars(str):\n",
        "  upper_ctr, lower_ctr, number_ctr, special_ctr = 0, 0, 0, 0\n",
        "  for i in range(len(str)):\n",
        "    if str[i] >= 'A' and str[i] <= 'Z' : upper_ctr += 1\n",
        "    elif str[i] >= 'a' and str[i] <= 'z' : lower_ctr += 1\n",
        "    elif str[i] >= '0' and str[i] <= '9' : number_ctr += 1\n",
        "    else: special_ctr += 1\n",
        "  return upper_ctr, lower_ctr, number_ctr, special_ctr\n",
        "\n",
        "str = \"@W3Resource.Com\"\n",
        "print(\"Original Substrings : \", str)\n",
        "u, l, n, s = count_chars(str)\n",
        "print('\\nUpper case characters : ',u)\n",
        "print('Lower case characters : ',l)\n",
        "print('Number case  : ',n)\n",
        "print('Special case characters : ',s)\n"
      ],
      "metadata": {
        "colab": {
          "base_uri": "https://localhost:8080/"
        },
        "id": "a9Nbk6jZPKub",
        "outputId": "21146f24-e6de-4ad6-b862-ff68b2e66d13"
      },
      "execution_count": null,
      "outputs": [
        {
          "output_type": "stream",
          "name": "stdout",
          "text": [
            "Original Substrings :  @W3Resource.Com\n",
            "\n",
            "Upper case characters :  3\n",
            "Lower case characters :  9\n",
            "Number case  :  1\n",
            "Special case characters :  2\n"
          ]
        }
      ]
    },
    {
      "cell_type": "code",
      "source": [
        "##15\n",
        "n = 5\n",
        "start = 2\n",
        "sum_seq = 0\n",
        "\n",
        "for i in range(0,n):\n",
        "  print(start, end=\"+\")\n",
        "  sum_seq += start\n",
        "  # calculate the next term\n",
        "  start = start * 10 +2\n",
        "\n",
        "print(\"\\nSum of above series is : \", sum_seq)\n"
      ],
      "metadata": {
        "colab": {
          "base_uri": "https://localhost:8080/"
        },
        "id": "xw3kueU0UHse",
        "outputId": "2e5532e6-83a1-4e30-8684-094bcfe74dcd"
      },
      "execution_count": null,
      "outputs": [
        {
          "output_type": "stream",
          "name": "stdout",
          "text": [
            "2+22+222+2222+22222+\n",
            "Sum of above series is :  24690\n"
          ]
        }
      ]
    }
  ]
}