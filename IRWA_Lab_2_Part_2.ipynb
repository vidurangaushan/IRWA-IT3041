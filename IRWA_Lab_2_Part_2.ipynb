{
  "nbformat": 4,
  "nbformat_minor": 0,
  "metadata": {
    "colab": {
      "provenance": [],
      "collapsed_sections": [],
      "mount_file_id": "1xfGPvs_ntR68yP4CBZaoxDrR6JJnOEBR",
      "authorship_tag": "ABX9TyNdEcvZArryiI5KorHxZAp6",
      "include_colab_link": true
    },
    "kernelspec": {
      "name": "python3",
      "display_name": "Python 3"
    },
    "language_info": {
      "name": "python"
    }
  },
  "cells": [
    {
      "cell_type": "markdown",
      "metadata": {
        "id": "view-in-github",
        "colab_type": "text"
      },
      "source": [
        "<a href=\"https://colab.research.google.com/github/vidurangaushan/IRWA-IT3041/blob/main/IRWA_Lab_2_Part_2.ipynb\" target=\"_parent\"><img src=\"https://colab.research.google.com/assets/colab-badge.svg\" alt=\"Open In Colab\"/></a>"
      ]
    },
    {
      "cell_type": "code",
      "execution_count": null,
      "metadata": {
        "colab": {
          "base_uri": "https://localhost:8080/"
        },
        "id": "Fq0PbA3q7Hfa",
        "outputId": "337f13c9-6b4c-476f-d090-db539de27ead"
      },
      "outputs": [
        {
          "output_type": "stream",
          "name": "stdout",
          "text": [
            "Mounted at /content/drive\n"
          ]
        }
      ],
      "source": [
        "from google.colab import drive\n",
        "drive.mount('/content/drive',force_remount=True)"
      ]
    },
    {
      "cell_type": "code",
      "source": [
        "from google.colab import drive\n",
        "drive.mount('/content/drive')"
      ],
      "metadata": {
        "colab": {
          "base_uri": "https://localhost:8080/"
        },
        "id": "ArIFKDRL_i47",
        "outputId": "eefdabdb-0477-41b1-ac8d-c028341ac20d"
      },
      "execution_count": null,
      "outputs": [
        {
          "output_type": "stream",
          "name": "stdout",
          "text": [
            "Drive already mounted at /content/drive; to attempt to forcibly remount, call drive.mount(\"/content/drive\", force_remount=True).\n"
          ]
        }
      ]
    },
    {
      "cell_type": "code",
      "source": [
        "%cd /content/drive/MyDrive/IRWA"
      ],
      "metadata": {
        "colab": {
          "base_uri": "https://localhost:8080/"
        },
        "id": "VbCw4yaDAq0w",
        "outputId": "8b688edd-89f1-4c56-c4f9-2f07a778fd4d"
      },
      "execution_count": null,
      "outputs": [
        {
          "output_type": "stream",
          "name": "stdout",
          "text": [
            "/content/drive/MyDrive/IRWA\n"
          ]
        }
      ]
    },
    {
      "cell_type": "code",
      "source": [
        "import os\n",
        "\n",
        "import re\n",
        "\n",
        "from nltk.tokenize import word_tokenize\n",
        "from nltk.corpus import stopwords\n",
        "from nltk.stem import PorterStemmer\n",
        "\n",
        "dictionary=dict()\n",
        "\n",
        "for doc_no in range(1,4):\n",
        "  with open(str(os.getcwd())+'/positional/doc_'+str(doc_no)+'.txt','r') as file:\n",
        "    s=file.read().replace('\\n','')[1:]\n",
        "   # print('sentence: ',s)\n",
        "\n",
        "    s = re.sub(' ',' ',s)\n",
        "    s = re.sub(\"won't\",\"will not\",s)\n",
        "\n",
        "   # print('sentence: ',s)\n",
        "\n",
        "    words=word_tokenize(str(s).lower())\n",
        "   # print(words)\n",
        "\n",
        "    stop_words = stopwords.words('english')\n",
        "    new_sentence=[word for word in words if word not in stop_words]\n",
        "    #print(new_sentence)\n",
        "\n",
        "    ps=PorterStemmer()\n",
        "    stemmed=[]\n",
        "    for i in new_sentence:\n",
        "      stemmed.append(ps.stem(i))\n",
        "    #print(stemmed)\n",
        "\n",
        "    #positional indexing\n",
        "    temp_dict=dict()\n",
        "    a=0\n",
        "    for x in stemmed:\n",
        "      key = x\n",
        "      temp_dict.setdefault(key,[])\n",
        "      temp_dict[key].append(a)\n",
        "      a +=1\n",
        "    #print(temp_dict)\n",
        "\n",
        "    for x in temp_dict:\n",
        "     # print(x)\n",
        "     if dictionary.get(x):\n",
        "       dictionary[x][doc_no]=temp_dict.get(x)\n",
        "     else:\n",
        "       key=x\n",
        "       dictionary.setdefault(key,[])\n",
        "       dictionary[key]={}\n",
        "       #print(dictionary[x][doc_no])\n",
        "       dictionary[x][doc_no]=temp_dict.get(x)\n",
        "print(dictionary)\n",
        "\n"
      ],
      "metadata": {
        "colab": {
          "base_uri": "https://localhost:8080/"
        },
        "id": "ilGmCoy3Br1M",
        "outputId": "efb2bfff-a49d-4386-cb26-ef7c4034dec8"
      },
      "execution_count": null,
      "outputs": [
        {
          "output_type": "stream",
          "name": "stdout",
          "text": [
            "{'remark': {1: [0], 3: [0]}, 'circu': {1: [1]}, 'announc': {1: [2]}, 'candidaci': {1: [3]}, 'presid': {1: [4], 3: [139, 200]}, 'new': {1: [5, 38], 2: [32], 3: [24, 52, 54, 164, 166]}, 'york': {1: [6, 39], 2: [33]}, 'citytrump': {1: [7]}, ':': {1: [8, 138, 144], 3: [142]}, 'wow': {1: [9]}, '.': {1: [10, 12, 15, 21, 25, 27, 32, 40, 44, 49, 60, 66, 70, 81, 92, 99, 103, 108, 126, 130, 132, 141, 164], 2: [9, 12, 20, 56, 86, 96, 102, 113, 122, 143, 151, 153, 174, 190, 196, 216, 228, 239], 3: [18, 40, 48, 57, 66, 79, 84, 91, 101, 104, 108, 116, 123, 129, 146, 150, 161, 168, 181, 193, 206, 219, 233, 238]}, 'whoa': {1: [11]}, 'group': {1: [13]}, 'peopl': {1: [14], 2: [98], 3: [73]}, 'thousands.so': {1: [16]}, 'nice': {1: [17, 24]}, ',': {1: [18, 37, 54, 56, 58, 78, 106, 115, 119, 152, 162], 2: [5, 24, 29, 37, 40, 46, 59, 67, 72, 79, 90, 92, 116, 118, 120, 131, 136, 140, 157, 163, 167, 199, 201, 206, 208, 210, 224, 227], 3: [7, 11, 34, 37, 74, 77, 95, 119, 128, 152, 155, 170, 173, 186, 199, 212]}, 'thank': {1: [19, 26], 2: [10, 152], 3: [8, 12]}, 'much': {1: [20], 2: [11]}, \"'s\": {1: [22, 28, 33, 41, 47, 50, 88, 117], 2: [114, 178, 213], 3: [45, 49, 202]}, 'realli': {1: [23]}, 'great': {1: [29, 34], 2: [194]}, 'trump': {1: [30, 140]}, 'tower': {1: [31]}, 'wonder': {1: [35]}, 'citi': {1: [36], 2: [34]}, 'honor': {1: [42], 2: [100], 3: [16]}, 'everybodi': {1: [43]}, 'beyond': {1: [45]}, 'anybodi': {1: [46, 80, 111], 2: [204]}, 'expect': {1: [48]}, 'crowd': {1: [51]}, 'like': {1: [52, 68], 3: [20]}, 'this.and': {1: [53]}, 'tell': {1: [55], 2: [162]}, 'candid': {1: [57]}, 'went': {1: [59], 3: [172, 194]}, \"n't\": {1: [61, 64, 74, 79, 86, 100, 107, 160], 2: [108]}, 'know': {1: [62, 75], 2: [158, 226]}, 'air-condition': {1: [63]}, 'work': {1: [65], 3: [132]}, 'sweat': {1: [67]}, 'dog': {1: [69]}, '[': {1: [71, 93, 133]}, 'laughter': {1: [72]}, ']': {1: [73, 95, 135]}, 'room': {1: [76]}, 'big': {1: [77]}, 'go': {1: [82], 2: [222]}, 'beat': {1: [83, 114, 127, 145], 3: [111]}, 'isi': {1: [84], 3: [214]}, '?': {1: [85, 123, 148, 153, 159]}, 'think': {1: [87]}, 'gon': {1: [89]}, 'na': {1: [90]}, 'happen': {1: [91]}, 'applaus': {1: [94, 134]}, 'countri': {1: [96], 3: [28, 227]}, 'seriou': {1: [97]}, 'troubl': {1: [98]}, 'victori': {1: [101, 105]}, 'anymor': {1: [102]}, 'use': {1: [104]}, 'last': {1: [109, 154], 3: [126]}, 'time': {1: [110, 129, 131, 155], 2: [88, 156], 3: [41, 50, 120, 167, 171]}, 'saw': {1: [112, 156]}, 'us': {1: [113, 125], 2: [39], 3: [63]}, 'let': {1: [116], 2: [161]}, 'say': {1: [118], 2: [198]}, 'china': {1: [120, 128]}, 'trade': {1: [121]}, 'deal': {1: [122], 2: [149, 159, 164, 215, 219]}, 'kill': {1: [124]}, 'audienc': {1: [136]}, 'member': {1: [137]}, 'want': {1: [139, 142]}, 'trump.trump': {1: [143]}, 'japan': {1: [146]}, 'anyth': {1: [147]}, 'send': {1: [149]}, 'car': {1: [150]}, 'million': {1: [151]}, 'chevrolet': {1: [157]}, 'tokyo': {1: [158]}, 'exist': {1: [161]}, 'folk': {1: [163]}, 'emark': {2: [0]}, 'aipac': {2: [1]}, 'polici': {2: [2], 3: [2, 26, 47, 68, 157, 175, 190]}, 'confer': {2: [3]}, 'washington': {2: [4, 35], 3: [6]}, 'dc': {2: [6]}, 'good': {2: [7]}, 'even': {2: [8]}, 'speak': {2: [13, 124], 3: [10]}, 'today': {2: [14], 3: [22, 60]}, 'lifelong': {2: [15]}, 'support': {2: [16, 83, 94]}, 'true': {2: [17]}, 'friend': {2: [18]}, 'israel': {2: [19, 51, 62, 77, 89, 95, 112, 168]}, \"'m\": {2: [21, 105]}, 'newcom': {2: [22]}, 'polit': {2: [23]}, 'back': {2: [25, 60], 3: [100, 112]}, 'jewish': {2: [26, 84]}, 'state.in': {2: [27]}, '2001': {2: [28]}, 'week': {2: [30]}, 'attack': {2: [31, 38, 41]}, 'frankli': {2: [36, 91]}, 'perpetr': {2: [42, 43]}, 'islam': {2: [44]}, 'fundamentalist': {2: [45]}, 'mayor': {2: [47]}, 'rudi': {2: [48]}, 'giuliani': {2: [49]}, 'visit': {2: [50]}, 'show': {2: [52]}, 'solidar': {2: [53]}, 'terror': {2: [54, 182]}, 'victim': {2: [55]}, 'sent': {2: [57]}, 'plane': {2: [58]}, 'mission': {2: [61]}, '100': {2: [63]}, 'percent.in': {2: [64]}, 'spring': {2: [65]}, '2004': {2: [66]}, 'height': {2: [68]}, 'violenc': {2: [69]}, 'gaza': {2: [70]}, 'strip': {2: [71]}, 'grand': {2: [73]}, 'marshal': {2: [74]}, '40th': {2: [75]}, 'salut': {2: [76]}, 'parad': {2: [78]}, 'largest': {2: [80]}, 'singl': {2: [81]}, 'gather': {2: [82]}, 'state': {2: [85, 141, 180]}, 'danger': {2: [87], 3: [221]}, 'anyon': {2: [93]}, 'mani': {2: [97]}, 'turn': {2: [99]}, ';': {2: [101]}, 'took': {2: [103]}, 'risk': {2: [104]}, 'glad': {2: [106]}, 'did.but': {2: [107]}, 'come': {2: [109]}, 'tonight': {2: [110]}, 'pander': {2: [111]}, 'politician': {2: [115]}, 'talk': {2: [117], 3: [21]}, 'action': {2: [119], 3: [207]}, 'believ': {2: [121, 207, 211]}, 'came': {2: [123]}, 'stand': {2: [125]}, 'futur': {2: [126]}, 'american': {2: [127], 3: [72, 75]}, 'relat': {2: [128]}, 'strateg': {2: [129]}, 'alli': {2: [130]}, 'unbreak': {2: [132]}, 'friendship': {2: [133]}, 'cultur': {2: [134]}, 'brother': {2: [135]}, 'democraci': {2: [137], 3: [226, 232]}, 'middl': {2: [138, 170]}, 'east': {2: [139]}, 'israel.thank': {2: [142]}, 'number': {2: [144]}, 'one': {2: [145], 3: [30, 188]}, 'prioriti': {2: [146]}, 'dismantl': {2: [147]}, 'disastr': {2: [148]}, 'iran': {2: [150, 221]}, 'busi': {2: [154]}, 'long': {2: [155]}, 'make': {2: [160], 3: [83, 177, 224]}, 'catastroph': {2: [165]}, 'america': {2: [166], 3: [44, 85]}, 'whole': {2: [169]}, 'east.th': {2: [171]}, 'problem': {2: [172, 230]}, 'fundament': {2: [173]}, \"'ve\": {2: [175, 191]}, 'reward': {2: [176]}, 'world': {2: [177], 3: [107, 118]}, 'lead': {2: [179]}, 'sponsor': {2: [181]}, '150': {2: [183]}, 'billion': {2: [184]}, 'dollar': {2: [185]}, 'receiv': {2: [186]}, 'absolut': {2: [187]}, 'noth': {2: [188]}, 'return': {2: [189], 3: [62]}, 'studi': {2: [192]}, 'issu': {2: [193]}, 'detail': {2: [195]}, 'would': {2: [197], 3: [19]}, 'actual': {2: [200]}, 'greater': {2: [202]}, 'far': {2: [203]}, 'els': {2: [205], 3: [78]}, 'oh': {2: [209]}, 'me.and': {2: [212]}, 'bad': {2: [214]}, 'biggest': {2: [217]}, 'concern': {2: [218]}, 'necessarili': {2: [220]}, 'violat': {2: [223]}, 'alreadi': {2: [225]}, 'bigger': {2: [229]}, 'keep': {2: [231]}, 'term': {2: [232]}, 'still': {2: [233]}, 'get': {2: [234]}, 'bomb': {2: [235]}, 'simpli': {2: [236]}, 'run': {2: [237]}, 'clock': {2: [238]}, 'foreign': {3: [1, 25, 46, 67, 156, 174, 189]}, 'nation': {3: [3, 14]}, 'press': {3: [4]}, 'club': {3: [5]}, 'opportun': {3: [9]}, 'center': {3: [13]}, 'interest': {3: [15, 71, 229]}, 'invit': {3: [17, 51]}, 'develop': {3: [23, 163]}, 'direct': {3: [27, 58]}, '\\x96': {3: [29]}, 'replac': {3: [31, 183]}, 'random': {3: [32]}, 'purpos': {3: [33]}, 'ideolog': {3: [35]}, 'strategi': {3: [36]}, 'chao': {3: [38, 211]}, 'peac': {3: [39]}, 'shake': {3: [42]}, 'rust': {3: [43]}, 'voic': {3: [53]}, 'vision': {3: [55, 165]}, 'fold': {3: [56]}, 'outlin': {3: [59]}, 'also': {3: [61]}, 'timeless': {3: [64]}, 'principl': {3: [65]}, 'alway': {3: [69]}, 'put': {3: [70]}, 'secur': {3: [76]}, 'foundat': {3: [80]}, 'everi': {3: [81]}, 'decis': {3: [82]}, 'first': {3: [86, 97]}, 'major': {3: [87]}, 'overrid': {3: [88]}, 'theme': {3: [89]}, 'administr': {3: [90]}, 'chart': {3: [92]}, 'path': {3: [93]}, 'forward': {3: [94]}, 'must': {3: [96]}, 'briefli': {3: [98]}, 'look': {3: [99]}, 'lot': {3: [102]}, 'proud': {3: [103]}, '1940': {3: [105]}, 'save': {3: [106, 117]}, 'greatest': {3: [109]}, 'gener': {3: [110]}, 'nazi': {3: [113]}, 'japanes': {3: [114]}, 'imperialist': {3: [115]}, 'totalitarian': {3: [121]}, 'commun': {3: [122]}, 'cold': {3: [124, 153]}, 'war': {3: [125, 154]}, 'decad': {3: [127]}, 'democrat': {3: [130]}, 'republican': {3: [131]}, 'togeth': {3: [133]}, 'got': {3: [134]}, 'mr.': {3: [135]}, 'gorbachev': {3: [136]}, 'heed': {3: [137]}, 'word': {3: [138]}, 'reagan': {3: [140]}, 'said': {3: [141]}, '``': {3: [143]}, 'tear': {3: [144]}, 'wall': {3: [145]}, \"''\": {3: [147]}, 'histori': {3: [148]}, 'forget': {3: [149]}, 'unfortun': {3: [151]}, 'veer': {3: [158]}, 'badli': {3: [159]}, 'cours': {3: [160]}, 'fail': {3: [162]}, 'fact': {3: [169]}, 'began': {3: [176, 220]}, 'less': {3: [178, 179]}, 'sens': {3: [180]}, 'logic': {3: [182]}, 'foolish': {3: [184]}, 'arrog': {3: [185]}, 'led': {3: [187]}, 'disast': {3: [191]}, 'anoth': {3: [192]}, 'mistak': {3: [195]}, 'iraq': {3: [196]}, 'egypt': {3: [197]}, 'libya': {3: [198]}, 'obama': {3: [201]}, 'line': {3: [203]}, 'sand': {3: [204]}, 'syria': {3: [205]}, 'help': {3: [208]}, 'throw': {3: [209]}, 'region': {3: [210]}, 'gave': {3: [213]}, 'space': {3: [215]}, 'need': {3: [216]}, 'grow': {3: [217]}, 'prosper': {3: [218]}, 'idea': {3: [222]}, 'could': {3: [223]}, 'western': {3: [225, 231]}, 'experi': {3: [228]}, 'becom': {3: [230]}, 'tore': {3: [234]}, 'institut': {3: [235]}, 'surpris': {3: [236]}, 'unleash': {3: [237]}}\n"
          ]
        }
      ]
    },
    {
      "cell_type": "code",
      "source": [
        "import nltk\n",
        "nltk.download('punkt')"
      ],
      "metadata": {
        "colab": {
          "base_uri": "https://localhost:8080/"
        },
        "id": "HcBxmHNMG8ne",
        "outputId": "a58d12ef-eabd-4faf-ae41-1a6976873537"
      },
      "execution_count": null,
      "outputs": [
        {
          "output_type": "stream",
          "name": "stderr",
          "text": [
            "[nltk_data] Downloading package punkt to /root/nltk_data...\n",
            "[nltk_data]   Unzipping tokenizers/punkt.zip.\n"
          ]
        },
        {
          "output_type": "execute_result",
          "data": {
            "text/plain": [
              "True"
            ]
          },
          "metadata": {},
          "execution_count": 9
        }
      ]
    },
    {
      "cell_type": "code",
      "source": [
        "import nltk\n",
        "nltk.download('stopwords')"
      ],
      "metadata": {
        "colab": {
          "base_uri": "https://localhost:8080/"
        },
        "id": "gfw_0trCIfCs",
        "outputId": "f896b6c4-2995-47ce-f799-cfd8eaaf4657"
      },
      "execution_count": null,
      "outputs": [
        {
          "output_type": "stream",
          "name": "stderr",
          "text": [
            "[nltk_data] Downloading package stopwords to /root/nltk_data...\n",
            "[nltk_data]   Unzipping corpora/stopwords.zip.\n"
          ]
        },
        {
          "output_type": "execute_result",
          "data": {
            "text/plain": [
              "True"
            ]
          },
          "metadata": {},
          "execution_count": 12
        }
      ]
    }
  ]
}